{
  "nbformat": 4,
  "nbformat_minor": 0,
  "metadata": {
    "colab": {
      "name": "line conversion.ipynb",
      "provenance": [],
      "collapsed_sections": []
    },
    "kernelspec": {
      "name": "python3",
      "display_name": "Python 3"
    },
    "language_info": {
      "name": "python"
    }
  },
  "cells": [
    {
      "cell_type": "code",
      "metadata": {
        "id": "hJ9c20-nap_F"
      },
      "source": [
        "class Point:\n",
        "    def __init__(self, x, y):\n",
        "        self.x = x\n",
        "        self.y = y\n",
        "\n",
        "    def __str__(self):\n",
        "        return f'({self.x:2},{self.y:2})'\n",
        "    \n",
        "    def goto(self, direction):\n",
        "        if direction == 'E':\n",
        "            self.x = self.x + 1\n",
        "            self.y = self.y\n",
        "        elif direction == 'NE':\n",
        "            self.x = self.x + 1\n",
        "            self.y = self.y + 1\n",
        "        elif direction == 'N':\n",
        "            self.x = self.x\n",
        "            self.y = self.y + 1\n",
        "\n",
        "    def get_slope(self, other):\n",
        "        if self.x == other.x:\n",
        "            return 100000000\n",
        "        return (self.y - other.y) / (self.x - other.x)\n",
        "\n",
        "    def get_coefficient(self, other):\n",
        "        return other.y - self.y, self.x - other.x\n",
        "        \n",
        "    def get_decision_variable(self, other):\n",
        "        m = self.get_slope(other)\n",
        "        a, b = self.get_coefficient(other)\n",
        "        \n",
        "        if m < 1:\n",
        "            return 2 * a + b, 2 * a, 2 * (a + b)\n",
        "        elif m > 1:\n",
        "            return a + 2 * b, 2 * b, 2 * (a + b)\n",
        "\n"
      ],
      "execution_count": 148,
      "outputs": []
    },
    {
      "cell_type": "code",
      "metadata": {
        "id": "lSBn7byVPHik"
      },
      "source": [
        "def doConversion(p1, p2, d, option_1, option_2, direction_1, direction_2):\n",
        "\n",
        "\n",
        "    direction = direction_1\n",
        "    print(f'starting point: {p1}')\n",
        "    print(f'endling point : {p2}')\n",
        "    print(f'm: {p1.get_slope (p2)}')\n",
        "    print(f'a, b: {p1.get_coefficient(p2)}')\n",
        "    print(f'd_start: {d}')\n",
        "    print(f'delta {direction_1}: {option_1}')\n",
        "    print(f'delta {direction_2}: {option_2}')\n",
        "\n",
        "    itr = '   row'\n",
        "    i = p1.y + 1\n",
        "    j = p2.y\n",
        "    if m < 1:\n",
        "        i = p1.x + 1\n",
        "        j = p2.x\n",
        "        itr = 'column'\n",
        "    print(f'{itr}|   d|  pixel|  co-ordinate')\n",
        "    print(f'{i - 1:6}|   -|      -|      {p1}')\n",
        "\n",
        "\n",
        "    p3 = p1\n",
        "    while i <= j:\n",
        "        temp_d = d\n",
        "        if d <= 0:\n",
        "            direction = direction_1\n",
        "            d += option_1\n",
        "        else:\n",
        "            direction = direction_2\n",
        "            d += option_2\n",
        "\n",
        "        p3.goto(direction)\n",
        "\n",
        "        print(f'{i:6}| {temp_d:3}| {direction: >6}|      {p3}')\n",
        "        i += 1\n",
        "    \n"
      ],
      "execution_count": 182,
      "outputs": []
    },
    {
      "cell_type": "code",
      "metadata": {
        "colab": {
          "base_uri": "https://localhost:8080/"
        },
        "id": "pVPJn0eAlMW3",
        "outputId": "5dd4d920-d0b6-430e-caa3-0a781cc77fe5"
      },
      "source": [
        "x, y = input('Enter first point(x, y):').split()\n",
        "p1 = Point(int(x), int(y))\n",
        "x, y = input('Enter second point(x, y):').split()\n",
        "p2 = Point(int(x), int(y))\n",
        "\n",
        "m = p1.get_slope (p2)\n",
        "\n",
        "if m < 1:\n",
        "    d, delta_E, delta_NE = p1.get_decision_variable(p2)\n",
        "    doConversion(p1, p2, d, delta_E, delta_NE, 'E', 'NE')\n",
        "elif m > 1:\n",
        "    d, delta_N, delta_NE = p1.get_decision_variable(p2)\n",
        "    doConversion(p1, p2, d, delta_NE, delta_N, 'NE', 'N')"
      ],
      "execution_count": 187,
      "outputs": [
        {
          "output_type": "stream",
          "text": [
            "Enter first point(x, y):-2 0\n",
            "Enter second point(x, y):1 5\n",
            "starting point: (-2, 0)\n",
            "endling point : ( 1, 5)\n",
            "m: 1.6666666666666667\n",
            "a, b: (5, -3)\n",
            "d_start: -1\n",
            "delta NE: 4\n",
            "delta N: -6\n",
            "   row|   d|  pixel|  co-ordinate\n",
            "     0|   -|      -|      (-2, 0)\n",
            "     1|  -1|     NE|      (-1, 1)\n",
            "     2|   3|      N|      (-1, 2)\n",
            "     3|  -3|     NE|      ( 0, 3)\n",
            "     4|   1|      N|      ( 0, 4)\n",
            "     5|  -5|     NE|      ( 1, 5)\n"
          ],
          "name": "stdout"
        }
      ]
    },
    {
      "cell_type": "code",
      "metadata": {
        "id": "uMzav0VATYMc"
      },
      "source": [
        ""
      ],
      "execution_count": null,
      "outputs": []
    }
  ]
}